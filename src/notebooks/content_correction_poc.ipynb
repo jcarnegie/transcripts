{
 "cells": [
  {
   "cell_type": "code",
   "execution_count": 1,
   "id": "35dd8f84",
   "metadata": {},
   "outputs": [
    {
     "name": "stderr",
     "output_type": "stream",
     "text": [
      "/Users/dreznikov/.pyenv/versions/me_too/lib/python3.10/site-packages/pinecone/index.py:4: TqdmExperimentalWarning: Using `tqdm.autonotebook.tqdm` in notebook mode. Use `tqdm.tqdm` instead to force console mode (e.g. in jupyter console)\n",
      "  from tqdm.autonotebook import tqdm\n"
     ]
    }
   ],
   "source": [
    "import pinecone\n",
    "import openai\n",
    "import os"
   ]
  },
  {
   "cell_type": "code",
   "execution_count": 2,
   "id": "0fcd8884",
   "metadata": {},
   "outputs": [],
   "source": [
    "# Setup\n",
    "openai.organization = \"org-xn0x8NghLyGbAPQ4pf6IzXwZ\"\n",
    "openai.api_key = os.getenv(\"OPENAI_API_KEY\")\n",
    "pinecone.init(api_key=os.getenv(\"PINECONE_API_KEY\"), environment=\"asia-southeast1-gcp\")"
   ]
  },
  {
   "cell_type": "code",
   "execution_count": 3,
   "id": "710884d9",
   "metadata": {},
   "outputs": [],
   "source": [
    "# Steps\n",
    "#  Give chatGPT a basic_info_prompt\n",
    "#  Ask it a question like \"What is Daniel interested in?\"\n",
    "#  Actually I am also interested in weight-lifting. \n",
    "#  Insert the embedding of this Q+A into Pinecone -> embedding_of(\"daniel is also interested in weight-lifting.\")\n",
    "#  Query pinecone for \"What is Daniel interested in?\" -- same Q as what we asked of chatGPT\n",
    "#  Use Pinecone query results as a part of the the same question.\n",
    "#  Goal is that in addition to the original interests, show that we \"taught\" the agent, that daniel has this additional interest"
   ]
  },
  {
   "cell_type": "code",
   "execution_count": 4,
   "id": "5b84712b",
   "metadata": {},
   "outputs": [],
   "source": [
    "basic_info_prompt = \"\"\"Given that Daniel's interests are skiing, rafting, backpacking and music festivals.\"\"\""
   ]
  },
  {
   "cell_type": "code",
   "execution_count": 5,
   "id": "ed27c032",
   "metadata": {},
   "outputs": [],
   "source": [
    "def get_completion(prompt: str) -> str:\n",
    "    completion = openai.Completion.create(\n",
    "        model=\"text-davinci-003\",\n",
    "        prompt=prompt,\n",
    "        temperature=0,\n",
    "        max_tokens=500,\n",
    "        top_p=1,\n",
    "        n=1,\n",
    "        stream=False,\n",
    "        logprobs=None, \n",
    "        presence_penalty=0.0,\n",
    "        frequency_penalty=0.5,\n",
    "    #   best_of=1     \n",
    "    )\n",
    "\n",
    "    completion_txt = completion[\"choices\"][0][\"text\"]\n",
    "    completion_txt = completion_txt.replace(\"\\n\", \"\")\n",
    "    return completion_txt"
   ]
  },
  {
   "cell_type": "code",
   "execution_count": 6,
   "id": "6a2485c9",
   "metadata": {},
   "outputs": [
    {
     "name": "stdout",
     "output_type": "stream",
     "text": [
      "Answer: Daniel's interests are skiing, rafting, backpacking and music festivals.\n"
     ]
    }
   ],
   "source": [
    "prompt1 = f\"Given that you know only the following about a person, please answer a question.\\\n",
    "            Known: {basic_info_prompt}\"\n",
    "\n",
    "question: \"Question: What are Daniel's interests?\"\n",
    "\n",
    "\n",
    "print(get_completion(prompt=f{prompt1} \\n{question}))"
   ]
  },
  {
   "cell_type": "code",
   "execution_count": 7,
   "id": "222db213",
   "metadata": {},
   "outputs": [
    {
     "name": "stdout",
     "output_type": "stream",
     "text": [
      "Answer: Daniel's interests include running, weight lifting, and other physical activities.\n"
     ]
    }
   ],
   "source": [
    "prompt2 = f\"Okay, what if I tell you that Daniel also enjoys weight lifting. Question: What are Daniel's interests?\"\n",
    "print(get_completion(prompt=f{prompt1} + ))"
   ]
  },
  {
   "cell_type": "code",
   "execution_count": 8,
   "id": "8c0db9b2",
   "metadata": {},
   "outputs": [
    {
     "name": "stdout",
     "output_type": "stream",
     "text": [
      "Daniel's interests include playing guitar, reading, writing, hiking, camping, and exploring new places.\n"
     ]
    }
   ],
   "source": [
    "print(get_completion(prompt=\"What are Daniel's interests?\"))"
   ]
  },
  {
   "cell_type": "code",
   "execution_count": null,
   "id": "1335f3ec",
   "metadata": {},
   "outputs": [],
   "source": []
  }
 ],
 "metadata": {
  "kernelspec": {
   "display_name": "me_too",
   "language": "python",
   "name": "me_too"
  },
  "language_info": {
   "codemirror_mode": {
    "name": "ipython",
    "version": 3
   },
   "file_extension": ".py",
   "mimetype": "text/x-python",
   "name": "python",
   "nbconvert_exporter": "python",
   "pygments_lexer": "ipython3",
   "version": "3.10.1"
  }
 },
 "nbformat": 4,
 "nbformat_minor": 5
}
