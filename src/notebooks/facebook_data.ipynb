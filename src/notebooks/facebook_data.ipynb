{
 "cells": [
  {
   "cell_type": "code",
   "execution_count": 2,
   "id": "09a32078",
   "metadata": {},
   "outputs": [],
   "source": [
    "import requests"
   ]
  },
  {
   "cell_type": "code",
   "execution_count": 8,
   "id": "5e8d73cd",
   "metadata": {},
   "outputs": [],
   "source": [
    "params = {\n",
    "    'fields': 'name,birthday,posts',\n",
    "    'access_token': 'EAACWPUtxdHMBAOCPRDg50hHXdqQ9zL00MFCnMTf17hdmZCEPZCPgZAFH5GplxYvzxFSBAiDq1mkj5Nj3gZCo8Pv4d6piOkh2i0Pjpbm3KfVgfs5r2UoPvo3RzVmCpMfnZBOK0zajIRgB24ZC428Ri9fMR0DfZBkd6alnk13wZAccuPlztO3kqbsZA4BDXWUe8EvkhlQjZAxGuSIbAFLblu7D72tg1kD52PHZBfxqL9S67e5GBYGuG2rMBDq',\n",
    "}\n",
    "\n",
    "response = requests.get('https://graph.facebook.com/v16.0/me', params=params)"
   ]
  },
  {
   "cell_type": "code",
   "execution_count": 9,
   "id": "65704648",
   "metadata": {},
   "outputs": [
    {
     "data": {
      "text/plain": [
       "{'name': 'Daniel Reznikov',\n",
       " 'birthday': '03/07/1990',\n",
       " 'posts': {'data': [{'created_time': '2022-12-31T19:49:44+0000',\n",
       "    'message': 'Happy New Year, friends! 🥳 Peace, love, health, adventure and gratitude to you all 🖤',\n",
       "    'id': '10160632285039133_10160354639304133'},\n",
       "   {'created_time': '2022-12-28T21:08:43+0000',\n",
       "    'message': 'Jurassic park laughs.',\n",
       "    'id': '10160632285039133_10160348346899133'},\n",
       "   {'created_time': '2022-12-18T22:56:02+0000',\n",
       "    'message': 'As the year winds down, and we’re all swept away into a cauldron of holiday travel, evenings of engrossing fireside chats, and quality time spent in play and celebration with our friends and family, I find it important, indeed natural, to take time to reflect on the year. \\n\\nMy thoughts are with the people who have left a bright, if sometimes painful, mark on my life, and with my work, which colors much of my perception of my identity and purpose. Stayed tuned, for a proper reflection piece ;)  \\n\\n📸 @vp_photo',\n",
       "    'id': '10160632285039133_10160326464829133'},\n",
       "   {'created_time': '2022-11-30T22:12:08+0000',\n",
       "    'message': 'September 22’, Houte Route, Switzerland\\n\\nChallenging, and deeply rewarding, the ten of us took on, and survived, the last third of the infamous “Houte Route”, the strenuous and spectacular trek from Mt Blanc to the Matterhorn. Words elicited by the memory include perseverance, fraternity, lucid mind, and simply wow ))\\n\\n16k’ of ascent, an equivalent descent, 5 days, 40 miles, up to 11k elevation. \\n\\nI’ll be back, to finish the full trail. Reminder to self, no matter what is going on in my life, nature makes it all manageable - the air and the sweat clear away the noise, and fill the heart.',\n",
       "    'id': '10160632285039133_10160291678819133'},\n",
       "   {'created_time': '2022-08-07T15:43:09+0000',\n",
       "    'message': 'A SoCal gem, Big Pine Creek Trail is full of pine forests, wild camping, alpine lakes, and stunning views. We did a little weekend trip there last weekend, and of course nature is the best therapy.',\n",
       "    'id': '10160632285039133_10160026403824133'},\n",
       "   {'created_time': '2022-08-06T21:50:40+0000',\n",
       "    'message': 'I road mountain bikes with some fervency as a kid. And recently I updated myself with a  solid road bike setup, which I have been easing into for the past month. Today, my buddies took me up into the Malibu mountains for 60 mile ride, with almost 3k’ of elevation gain. The perseverance to push to the top reminds one of DeCaprio’s character in “The Revenant”. Upon sumiting Latigo road, I was washed over with a deeply satisfying sense of accomplishment, combined with a huge relief. And then, the downhill 😝. Complete with a gorgeous ocean view, the mountain bomb was marked by the thrill of the breeze, my beaming smile, and a not-insignificant dose of adrenaline! The physics play was fun - the centrifugal forces, aerodynamics, the counter-steering where all terrifying and fun to observe. Now, I’m enjoying a recovery regiment )',\n",
       "    'id': '10160632285039133_10160025203609133'},\n",
       "   {'created_time': '2022-08-03T17:39:16+0000',\n",
       "    'message': '“Life has no meaning the moment you lose the illusion of being eternal” - Jean-Paul Sarte. Is the meaning of life to understand oneself? Is it to collect experiences and wonder at the beauty of life? Is to impact change on our species, or to raise the next generation which might? Or is there no meaning beyond existing in the present - to love and laugh and enjoy the ride?',\n",
       "    'id': '10160632285039133_10160021058924133'},\n",
       "   {'created_time': '2022-07-20T01:32:45+0000',\n",
       "    'message': 'Reminiscing on a trip last year to CDMX. Marked by great food, abundant mezcal, and copious laughter.  ‘Twas a pandemic reunion of north and south tribes. Mexico City, May 21’',\n",
       "    'id': '10160632285039133_10159998971569133'},\n",
       "   {'created_time': '2022-07-16T16:48:36+0000',\n",
       "    'message': 'Yosemite camping trip with friends, July 4, 2022. With Class V rafting down the Cherry Creek section of the Tuolumne River. Fantastic to decompress in nature, with friends, and a sprinkle of adventure😎',\n",
       "    'id': '10160632285039133_10159993827929133'},\n",
       "   {'created_time': '2022-07-06T16:47:43+0000',\n",
       "    'message': 'just sayin’ hello )',\n",
       "    'id': '10160632285039133_10159977828589133'},\n",
       "   {'created_time': '2022-06-29T19:07:38+0000',\n",
       "    'message': 'These past four years have raced by - a tremendously rich and interesting rollercoaster of experiences!',\n",
       "    'id': '10160632285039133_10159965488539133'},\n",
       "   {'created_time': '2022-06-05T23:55:02+0000',\n",
       "    'message': 'Sailing the BVIs ⛵️',\n",
       "    'id': '10160632285039133_10159923678884133'},\n",
       "   {'created_time': '2022-05-14T13:47:26+0000',\n",
       "    'id': '10160632285039133_10159876724849133'},\n",
       "   {'created_time': '2022-04-26T15:29:57+0000',\n",
       "    'message': 'Four things you can’t recover in life. \\n(1) A word, after it is said. \\n(2) An opportunity, after it’s missed. \\n(3) Time, after it’s gone. \\n(4) Trust, after it’s lost.',\n",
       "    'id': '10160632285039133_10159843083659133'},\n",
       "   {'created_time': '2022-03-07T14:22:33+0000',\n",
       "    'message': '32. Today marks another celestial cycle and my mood is somber on account of the tragic war in Ukraine, and all the people afflicted by this awful conflict. \\n\\nNone-the-less, I want to say a few things to myself, and aloud to you, my friends.  A stream of consciousness of what I wish for myself, and what I wish for you. \\n\\nHonor the impermanence of life; every day is precious, and we don’t know how much time we have here. \\n\\nLove. Live through love. And love yourself first. Be gentle with yourself, forgive yourself, give yourself permission to try, permission to fail, permission to love and permission to speak your truth. Love your family and close friends, accept them as they are, and don’t try to change anyone. And tell the people who matter why they matter to you. \\n\\nAttention. Attention is the greatest gift we can give one another. Our focus illuminates our reality. Stop yourself from focusing your consciousness on that which is wrong, and instead choose to focus on what is beautiful and right in your «blessed» life.\\n\\nGrow. Maintain empowering relationships with your mentors, teachers and coaches. If you find yourself overthinking, write. If you find yourself bored or uninspired, read. Read to know the world, especially the shades of humanity. Travel will wake you up and inspire you, and give you space to reevaluate. Do not settle in work, or in love. Ask for what you want directly. Exercise and eat healthy. Build the habit of actively clearing an overthinking mind, and returning to «internal» balance. \\n\\nJoy. Have goals, but don’t be hyper focused on what you want. Instead remember to enjoy what you have. Honor your path, it’s your journey and it’s all okay! Explore music and dance and art. Express yourself through all modalities. Take yourself lightly. Relax and slow down. \\n\\nBe kind to others. Use your power for good, to help your friends and teammates; don’t use your power to put people down. Set boundaries. Step through your ego. Be humble and generous.',\n",
       "    'id': '10160632285039133_10159763250989133'},\n",
       "   {'created_time': '2022-02-28T05:58:15+0000',\n",
       "    'id': '10160632285039133_10159750816149133'},\n",
       "   {'created_time': '2022-02-11T17:58:25+0000',\n",
       "    'message': 'Move through life with grace and ease and laughter.',\n",
       "    'id': '10160632285039133_10159722505889133'},\n",
       "   {'created_time': '2022-01-12T21:45:42+0000',\n",
       "    'message': \"Marking the final excursion of what was an undoubtably adventurous year for me, last December’s  enduro motorcycling foray through Chilean Patagonia was remarkably therapeutic and inspiring.  Borka’s description as we stopped to take-in a vista overlooking the bay surrounding the port city of Puerto Montt still rings the truest. He described the 1500 mile journey through the winding roads of some of the most awe-inspiring scenery as a “Vipassana For Men”.  \\n \\n \\nThis was my first time traveling by motorcycle. I found it to be an exciting and highly effective way to explore. With whisking fresh air and swiftly unfolding landscapes, I appreciated the deeply rewarding physicality of it all. And there was a bona fide aspect of meditation – a genuine mental repose, full of tranquility and contemplation. Robert Pirsig’s description of the satisfaction of motorcycling in “Zen and the Art of Motorcycle Maintenance” (I highly recommend the book if you have not yet read it) comes to mind;  “On a cycle the frame is gone. You're completely in contact with it all. You're in the scene, not just watching it anymore, and the sense of presence is overwhelming.”  \\n \\n \\nPatagonia impresses with swift turquoise rivers, cutting through contrasts of vibrant emerald cultivation, juxtaposed with the bone-white, jagged towers of the Andes. We had up-close encounters with Southern Rockhopper Penguins, llamas, horses and so many dogs (Chileans are perfectly tolerant of multitudes of stray mutts begging for scraps of street food). \\n \\n \\nI loved sharing this experience with an outstanding group of «guy» friends. Cheers to all the jokes and fraternal support. It was awesome traveling with this particular configuration of people, you all made it truly memorable ❤️.\",\n",
       "    'id': '10160632285039133_10159673407659133'},\n",
       "   {'created_time': '2021-12-05T21:24:37+0000',\n",
       "    'message': 'Happy birthday, Pashka! Love you big brother, be happy! 🥳',\n",
       "    'id': '10160632285039133_10159609811139133'},\n",
       "   {'created_time': '2021-10-11T19:24:09+0000',\n",
       "    'message': 'Today marks one year since I moved from San Francisco to Los Angeles. \\n\\nPeople often ask me to characterize the differences between these two great cities. For me, SF is the mecca of intellectualism and tech, and my community there is made up of undoubtably the most talented, driven, educated, successful and inspiring people I have ever met. It is a place for work, and focus and for achieving your «professional» potential. \\n\\nLA, by contrast, is about balance. My friends here hustle in life, and they are no less driven than the SF community. But the culture here values more balance - more sport, more adventure, more experiences and more creativity.\\n\\nFor me personally, the move was a powerful catalyst to open myself up to more of what life has to offer. Amongst a plethora of awe-inspiring and beautiful experiences, there have also been painful lessons and moments of deep anxiety. But in its sum, I feel I have grown and transformed how I perceive my existence, and I am grateful to be in this vibrant and dynamic place at this stage of my life. \\n\\n📸 credit @vp_photo',\n",
       "    'id': '10160632285039133_10159508508729133'},\n",
       "   {'created_time': '2021-09-19T00:52:09+0000',\n",
       "    'message': 'Towering over a wild landscape of pine trees and jagged granite peaks, the Grand Tetons in Wyoming are a must see in this life. And the Teton Crest Trail is one of the most scenic hikes I have done. \\n\\nOur group of eight friends trekked the Teton Crest Trail last week. The stats:\\n   - 38 miles of hiking\\n   - 4 days, 3 nights\\n   - 8200’ of ascent \\n   - 10,285’ of descent \\n   - 10,700’ maximum altitude\\n\\nIt was gruesome at times, challenging and deeply rewarding, both physically and mentally. I find that nothing clears the noise of overthinking quite like running a stream of sweet from my nose for 8hrs straight 😅.\\n\\nI am grateful the fraternal bond deepened through this shared experience with an exceptional group of men. And I feel recharged and rejuvenated and focused. Note to self, when life seems complicated, go on a multi-day trek, and you’ll come back to a simpler world 😄',\n",
       "    'id': '10160632285039133_10159472432639133'},\n",
       "   {'created_time': '2021-09-10T20:33:29+0000',\n",
       "    'message': \"My decennial playa-versary, was amazing! The theme for me was “surrender”, and it opened me up to a myriad of playa miracles, and beautiful connections with people.  Especially grateful for sharing this with @leon_ben_yakov and our fabulous camping mates! I feel recharged, realigned, and inspired! I had forgotten what a big part of my life Burning Man has been over the years - very much looking forward to next year ❗️)'( ❗️\",\n",
       "    'id': '10160632285039133_10159458762329133'},\n",
       "   {'created_time': '2021-07-27T17:56:26+0000',\n",
       "    'message': 'Happy Birthday, Trevor!',\n",
       "    'id': '10160632285039133_10159379298824133'},\n",
       "   {'created_time': '2021-07-07T05:32:28+0000',\n",
       "    'message': 'Pictures cannot convey the stunning beauty of Alaska. Feeling recharged after a long weekend of adventures with friends, disconnected from internet and the daily cares of life )',\n",
       "    'id': '10160632285039133_10159340028564133'}],\n",
       "  'paging': {'previous': 'https://graph.facebook.com/v16.0/10160632285039133/posts?access_token=EAACWPUtxdHMBAOCPRDg50hHXdqQ9zL00MFCnMTf17hdmZCEPZCPgZAFH5GplxYvzxFSBAiDq1mkj5Nj3gZCo8Pv4d6piOkh2i0Pjpbm3KfVgfs5r2UoPvo3RzVmCpMfnZBOK0zajIRgB24ZC428Ri9fMR0DfZBkd6alnk13wZAccuPlztO3kqbsZA4BDXWUe8EvkhlQjZAxGuSIbAFLblu7D72tg1kD52PHZBfxqL9S67e5GBYGuG2rMBDq&__previous=1&since=1672516184&until&__paging_token=enc_AdDfxt2pEYNbau5VfrNBMYtfl6g27orNMcZBL2fYjSGYj6wi8gggWbDURZAnFXJ5dtZBjXsZCqZBMb6gtZBjxYPMy2AFAZB',\n",
       "   'next': 'https://graph.facebook.com/v16.0/10160632285039133/posts?access_token=EAACWPUtxdHMBAOCPRDg50hHXdqQ9zL00MFCnMTf17hdmZCEPZCPgZAFH5GplxYvzxFSBAiDq1mkj5Nj3gZCo8Pv4d6piOkh2i0Pjpbm3KfVgfs5r2UoPvo3RzVmCpMfnZBOK0zajIRgB24ZC428Ri9fMR0DfZBkd6alnk13wZAccuPlztO3kqbsZA4BDXWUe8EvkhlQjZAxGuSIbAFLblu7D72tg1kD52PHZBfxqL9S67e5GBYGuG2rMBDq&until=1625635948&since&__paging_token=enc_AdDTmdGs9oF7OgA0Jf5CK4fGByZBQFhNAfwBqZCYgWJQcEZBQGRIz9TFG9J2UIO3pmmV82o6EqgfT0rCGqMo2POpnln&__previous'}},\n",
       " 'id': '10160632285039133'}"
      ]
     },
     "execution_count": 9,
     "metadata": {},
     "output_type": "execute_result"
    }
   ],
   "source": [
    "response.json()"
   ]
  },
  {
   "cell_type": "code",
   "execution_count": 10,
   "id": "1af9fa30",
   "metadata": {},
   "outputs": [
    {
     "ename": "SyntaxError",
     "evalue": "f-string: unmatched '[' (1359738756.py, line 7)",
     "output_type": "error",
     "traceback": [
      "\u001b[0;36m  Cell \u001b[0;32mIn[10], line 7\u001b[0;36m\u001b[0m\n\u001b[0;31m    summary += f\"Your birthday is {content[\"birthday\"]}.\"\u001b[0m\n\u001b[0m                                            ^\u001b[0m\n\u001b[0;31mSyntaxError\u001b[0m\u001b[0;31m:\u001b[0m f-string: unmatched '['\n"
     ]
    }
   ],
   "source": [
    "def summarize(content: str, fields: list) -> str:\n",
    "    summary = \"\"\n",
    "    \n",
    "    if \"name\" in fields:\n",
    "        summary += f\"Your name is {content['name']}.\"\n",
    "    if \"birthday\" in fields:\n",
    "        summary += f\"Your birthday is {content['birthday']}.\"\n",
    "        \n",
    "    return summary\n",
    "\n"
   ]
  },
  {
   "cell_type": "code",
   "execution_count": 11,
   "id": "e27db223",
   "metadata": {},
   "outputs": [],
   "source": [
    "# next steps\n",
    "#  ask chatGPT to summarize interesting facts from the content of my posts"
   ]
  },
  {
   "cell_type": "code",
   "execution_count": null,
   "id": "ba65674f",
   "metadata": {},
   "outputs": [],
   "source": []
  }
 ],
 "metadata": {
  "kernelspec": {
   "display_name": "me_too",
   "language": "python",
   "name": "me_too"
  },
  "language_info": {
   "codemirror_mode": {
    "name": "ipython",
    "version": 3
   },
   "file_extension": ".py",
   "mimetype": "text/x-python",
   "name": "python",
   "nbconvert_exporter": "python",
   "pygments_lexer": "ipython3",
   "version": "3.10.1"
  }
 },
 "nbformat": 4,
 "nbformat_minor": 5
}
